{
  "nbformat": 4,
  "nbformat_minor": 0,
  "metadata": {
    "colab": {
      "name": "Fruit_multiple.ipynb",
      "provenance": [],
      "collapsed_sections": []
    },
    "kernelspec": {
      "name": "python3",
      "display_name": "Python 3"
    },
    "language_info": {
      "name": "python"
    }
  },
  "cells": [
    {
      "cell_type": "code",
      "metadata": {
        "id": "NvHMxrBk6UwQ"
      },
      "source": [
        "# Import some required libraries. Some libraries will be imported later if needed.\n",
        "import numpy as np \n",
        "import pandas as pd \n",
        "import keras \n",
        "import tensorflow as tf\n",
        "import matplotlib.pyplot as plt\n",
        "%matplotlib inline\n",
        "import cv2\n",
        "import glob\n",
        "import os\n",
        "\n",
        "from tensorflow.keras.utils import to_categorical\n",
        "from tensorflow.keras.models import Sequential\n",
        "from tensorflow.keras.layers import Conv2D\n",
        "from tensorflow.keras.layers import MaxPooling2D\n",
        "from tensorflow.keras.layers import Dense,Activation\n",
        "from tensorflow.keras.layers import Flatten\n",
        "from tensorflow.keras.optimizers import SGD, Adam\n",
        "from tensorflow.keras.layers import BatchNormalization\n",
        "from tensorflow.keras.layers import Dropout\n",
        "from tensorflow.keras.preprocessing.image import ImageDataGenerator\n",
        "import matplotlib.pyplot as plt\n",
        "from keras.optimizers import Adamax\n",
        "from tensorflow import keras\n",
        "from tensorflow.keras import layers"
      ],
      "execution_count": 1,
      "outputs": []
    },
    {
      "cell_type": "code",
      "metadata": {
        "colab": {
          "base_uri": "https://localhost:8080/"
        },
        "id": "9Y6wo6du7k6x",
        "outputId": "78d67cdd-57ab-40d6-c6d1-e31894d64289"
      },
      "source": [
        "from sklearn.datasets import load_files\n",
        "training_directory = \"/content/drive/My Drive/Colab Notebooks/Ours/\"\n",
        "\n",
        "def load_images(image_path):\n",
        "    data = load_files(image_path)\n",
        "    files = np.array(data['filenames'])\n",
        "    targets = np.array(data['target'])\n",
        "    target_labels = np.array(data['target_names'])\n",
        "    return files,targets,target_labels\n",
        "    \n",
        "x_train, y_train,target_labels = load_images(training_directory)\n",
        "\n",
        "\n",
        "print('Successfully loaded !')\n",
        "print('Number of training images : ' , x_train.shape[0])\n"
      ],
      "execution_count": 2,
      "outputs": [
        {
          "output_type": "stream",
          "text": [
            "Successfully loaded !\n",
            "Number of training images :  396\n"
          ],
          "name": "stdout"
        }
      ]
    },
    {
      "cell_type": "code",
      "metadata": {
        "id": "HFNU-pHA_If6"
      },
      "source": [
        "from sklearn.model_selection import train_test_split\n",
        "x_train, x_test, y_train, y_test = train_test_split(x_train, y_train, test_size=0.4, stratify=y_train)"
      ],
      "execution_count": 3,
      "outputs": []
    },
    {
      "cell_type": "code",
      "metadata": {
        "id": "-t-tV0LzGx8g"
      },
      "source": [
        ""
      ],
      "execution_count": 3,
      "outputs": []
    },
    {
      "cell_type": "code",
      "metadata": {
        "id": "AIpKwHYuGyZa"
      },
      "source": [
        ""
      ],
      "execution_count": 3,
      "outputs": []
    },
    {
      "cell_type": "code",
      "metadata": {
        "colab": {
          "base_uri": "https://localhost:8080/"
        },
        "id": "fYpTTfOpDwTQ",
        "outputId": "fb9d124b-3a34-4d64-ddd3-2a9c3f3bf879"
      },
      "source": [
        "no_of_classes = len(np.unique(y_train))\n",
        "no_of_classes"
      ],
      "execution_count": 4,
      "outputs": [
        {
          "output_type": "execute_result",
          "data": {
            "text/plain": [
              "19"
            ]
          },
          "metadata": {
            "tags": []
          },
          "execution_count": 4
        }
      ]
    },
    {
      "cell_type": "code",
      "metadata": {
        "id": "URFCqiXODrxb"
      },
      "source": [
        "from keras.utils import np_utils\n",
        "y_train = np_utils.to_categorical(y_train,no_of_classes)\n",
        "y_test= np_utils.to_categorical(y_test,no_of_classes)\n",
        "# x_train = np_utils.to_categorical(x_train,no_of_classes)\n",
        "# x_test= np_utils.to_categorical(x_test,no_of_classes)"
      ],
      "execution_count": 5,
      "outputs": []
    },
    {
      "cell_type": "code",
      "metadata": {
        "colab": {
          "base_uri": "https://localhost:8080/"
        },
        "id": "oBbJyabLF1c8",
        "outputId": "d3b1d6ba-9350-4533-9a98-cece1b4e5ddd"
      },
      "source": [
        "from keras.preprocessing.image import array_to_img, img_to_array, load_img\n",
        "\n",
        "def convert_image_to_array(files):\n",
        "    images_as_array=[]\n",
        "    for file in files:\n",
        "        # Convert to Numpy Array\n",
        "        images_as_array.append(img_to_array(load_img(file)))\n",
        "    return images_as_array\n",
        "\n",
        "x_train = np.array(convert_image_to_array(x_train))\n",
        "print('Shape of Training set: ',x_train.shape)\n",
        "\n",
        "x_test = np.array(convert_image_to_array(x_test))\n",
        "print('Shape of Test set : ',x_test.shape)\n",
        "\n",
        "print('Shape of one training image ',x_train[0].shape)"
      ],
      "execution_count": 6,
      "outputs": [
        {
          "output_type": "stream",
          "text": [
            "Shape of Training set:  (237, 100, 100, 3)\n",
            "Shape of Test set :  (159, 100, 100, 3)\n",
            "Shape of one training image  (100, 100, 3)\n"
          ],
          "name": "stdout"
        }
      ]
    },
    {
      "cell_type": "code",
      "metadata": {
        "id": "EV4VzcaiEEDc"
      },
      "source": [
        "x_train = x_train.astype('float32')/255\n",
        "x_test = x_test.astype('float32')/255"
      ],
      "execution_count": 7,
      "outputs": []
    },
    {
      "cell_type": "markdown",
      "metadata": {
        "id": "5GFR2y0i-Kak"
      },
      "source": [
        "# New section"
      ]
    },
    {
      "cell_type": "code",
      "metadata": {
        "colab": {
          "base_uri": "https://localhost:8080/"
        },
        "id": "CI7Pgt7wqbxz",
        "outputId": "fa5de321-e5fd-4a7e-fda7-1977ff4a3fcd"
      },
      "source": [
        "!pip install keras-tuner"
      ],
      "execution_count": 8,
      "outputs": [
        {
          "output_type": "stream",
          "text": [
            "Collecting keras-tuner\n",
            "\u001b[?25l  Downloading https://files.pythonhosted.org/packages/20/ec/1ef246787174b1e2bb591c95f29d3c1310070cad877824f907faba3dade9/keras-tuner-1.0.2.tar.gz (62kB)\n",
            "\r\u001b[K     |█████▏                          | 10kB 14.7MB/s eta 0:00:01\r\u001b[K     |██████████▍                     | 20kB 20.6MB/s eta 0:00:01\r\u001b[K     |███████████████▋                | 30kB 12.3MB/s eta 0:00:01\r\u001b[K     |████████████████████▉           | 40kB 9.8MB/s eta 0:00:01\r\u001b[K     |██████████████████████████      | 51kB 8.8MB/s eta 0:00:01\r\u001b[K     |███████████████████████████████▎| 61kB 10.1MB/s eta 0:00:01\r\u001b[K     |████████████████████████████████| 71kB 5.6MB/s \n",
            "\u001b[?25hRequirement already satisfied: packaging in /usr/local/lib/python3.7/dist-packages (from keras-tuner) (20.9)\n",
            "Requirement already satisfied: future in /usr/local/lib/python3.7/dist-packages (from keras-tuner) (0.16.0)\n",
            "Requirement already satisfied: numpy in /usr/local/lib/python3.7/dist-packages (from keras-tuner) (1.19.5)\n",
            "Requirement already satisfied: tabulate in /usr/local/lib/python3.7/dist-packages (from keras-tuner) (0.8.9)\n",
            "Collecting terminaltables\n",
            "  Downloading https://files.pythonhosted.org/packages/9b/c4/4a21174f32f8a7e1104798c445dacdc1d4df86f2f26722767034e4de4bff/terminaltables-3.1.0.tar.gz\n",
            "Collecting colorama\n",
            "  Downloading https://files.pythonhosted.org/packages/44/98/5b86278fbbf250d239ae0ecb724f8572af1c91f4a11edf4d36a206189440/colorama-0.4.4-py2.py3-none-any.whl\n",
            "Requirement already satisfied: tqdm in /usr/local/lib/python3.7/dist-packages (from keras-tuner) (4.41.1)\n",
            "Requirement already satisfied: requests in /usr/local/lib/python3.7/dist-packages (from keras-tuner) (2.23.0)\n",
            "Requirement already satisfied: scipy in /usr/local/lib/python3.7/dist-packages (from keras-tuner) (1.4.1)\n",
            "Requirement already satisfied: scikit-learn in /usr/local/lib/python3.7/dist-packages (from keras-tuner) (0.22.2.post1)\n",
            "Requirement already satisfied: pyparsing>=2.0.2 in /usr/local/lib/python3.7/dist-packages (from packaging->keras-tuner) (2.4.7)\n",
            "Requirement already satisfied: urllib3!=1.25.0,!=1.25.1,<1.26,>=1.21.1 in /usr/local/lib/python3.7/dist-packages (from requests->keras-tuner) (1.24.3)\n",
            "Requirement already satisfied: idna<3,>=2.5 in /usr/local/lib/python3.7/dist-packages (from requests->keras-tuner) (2.10)\n",
            "Requirement already satisfied: certifi>=2017.4.17 in /usr/local/lib/python3.7/dist-packages (from requests->keras-tuner) (2020.12.5)\n",
            "Requirement already satisfied: chardet<4,>=3.0.2 in /usr/local/lib/python3.7/dist-packages (from requests->keras-tuner) (3.0.4)\n",
            "Requirement already satisfied: joblib>=0.11 in /usr/local/lib/python3.7/dist-packages (from scikit-learn->keras-tuner) (1.0.1)\n",
            "Building wheels for collected packages: keras-tuner, terminaltables\n",
            "  Building wheel for keras-tuner (setup.py) ... \u001b[?25l\u001b[?25hdone\n",
            "  Created wheel for keras-tuner: filename=keras_tuner-1.0.2-cp37-none-any.whl size=78938 sha256=c81104361997dee78ab7860fdad552a2b53182bded0af30c25e414e8097f27a1\n",
            "  Stored in directory: /root/.cache/pip/wheels/bb/a1/8a/7c3de0efb3707a1701b36ebbfdbc4e67aedf6d4943a1f463d6\n",
            "  Building wheel for terminaltables (setup.py) ... \u001b[?25l\u001b[?25hdone\n",
            "  Created wheel for terminaltables: filename=terminaltables-3.1.0-cp37-none-any.whl size=15356 sha256=6ed3f5a35feb2df22d850e49d3ada07f642d1c4a7ffbee599cbce5263a94df76\n",
            "  Stored in directory: /root/.cache/pip/wheels/30/6b/50/6c75775b681fb36cdfac7f19799888ef9d8813aff9e379663e\n",
            "Successfully built keras-tuner terminaltables\n",
            "Installing collected packages: terminaltables, colorama, keras-tuner\n",
            "Successfully installed colorama-0.4.4 keras-tuner-1.0.2 terminaltables-3.1.0\n"
          ],
          "name": "stdout"
        }
      ]
    },
    {
      "cell_type": "code",
      "metadata": {
        "id": "o0VSV5526dhp"
      },
      "source": [
        "import numpy as np\n",
        "import tensorflow as tf\n",
        "from kerastuner.tuners import RandomSearch"
      ],
      "execution_count": 9,
      "outputs": []
    },
    {
      "cell_type": "code",
      "metadata": {
        "id": "zDYYRtiE6iGx"
      },
      "source": [
        "def build_model(hp):  \n",
        "  model = keras.Sequential([\n",
        "    keras.layers.Conv2D(\n",
        "        filters=hp.Int('conv_1_filter', min_value=16, max_value=128, step=16),\n",
        "        kernel_size=hp.Choice('conv_1_kernel', values = [2,5]),\n",
        "        activation='relu',\n",
        "        input_shape=(100,100,3)\n",
        "    ),\n",
        "    keras.layers.Conv2D(\n",
        "        filters=hp.Int('conv_2_filter', min_value=32, max_value=64, step=16),\n",
        "        kernel_size=hp.Choice('conv_2_kernel', values = [2,5]),\n",
        "        activation='relu'\n",
        "    ),\n",
        "    # keras.layers.Conv2D(\n",
        "    #     filters=hp.Int('conv_2_filter', min_value=32, max_value=64, step=16),\n",
        "    #     kernel_size=hp.Choice('conv_2_kernel', values = [2,5]),\n",
        "    #     activation='relu'\n",
        "    # ),\n",
        "    keras.layers.Flatten(),\n",
        "    keras.layers.Dense(\n",
        "        units=hp.Int('dense_1_units', min_value=32, max_value=128, step=16),\n",
        "        activation='relu'\n",
        "    ),\n",
        "    keras.layers.Dense(19, activation='softmax')\n",
        "  ])\n",
        "  \n",
        "  model.compile(optimizer=keras.optimizers.Adamax(hp.Choice('learning_rate', values=[1e-2, 1e-3])),\n",
        "              loss='categorical_crossentropy',\n",
        "              metrics=['accuracy'])\n",
        "  \n",
        "  return model\n",
        "\n",
        "# def build_model(hp):  # random search passes this hyperparameter() object \n",
        "#     model = keras.models.Sequential()\n",
        "    \n",
        "#     model.add(Conv2D(hp.Int('input_units',\n",
        "#                                 min_value=16,\n",
        "#                                 max_value=64,\n",
        "#                                 step=16), (3, 3), input_shape=x_train.shape[1:]))\n",
        "    \n",
        "#     # model.add(Activation('relu'))\n",
        "#     # model.add(BatchNormalization())\n",
        "#     # model.add(MaxPooling2D(pool_size=(2, 2)))\n",
        "\n",
        "#     for i in range(hp.Int('n_layers', 1, 3)):  # adding variation of layers.\n",
        "#         model.add(Conv2D(hp.Int(f'conv_{i}_units',\n",
        "#                                 min_value=16,\n",
        "#                                 max_value=64,\n",
        "#                                 step=16), (3, 3)))\n",
        "#         model.add(Activation('relu'))\n",
        "\n",
        "#     model.add(Flatten()) \n",
        "#     # model.add(Dense(512,activation = 'relu'))\n",
        "#     # model.add(Dropout(0.5))\n",
        "#     model.add(Dense(128,activation = 'relu'))\n",
        "#     model.add(Dropout(0.5))\n",
        "#     model.add(Dense(19,activation = 'softmax'))\n",
        "\n",
        "\n",
        "#     model.compile(optimizer=keras.optimizers.Adamax(hp.Choice('learning_rate', values=[1e-2, 1e-3])),\n",
        "#                   loss=\"categorical_crossentropy\",\n",
        "#                   metrics=[\"accuracy\"])\n",
        "    \n",
        "#     return model"
      ],
      "execution_count": 10,
      "outputs": []
    },
    {
      "cell_type": "code",
      "metadata": {
        "id": "VAdyH02o6yI5",
        "colab": {
          "base_uri": "https://localhost:8080/"
        },
        "outputId": "6c993245-48d0-4bd5-b61b-7ca73cccf986"
      },
      "source": [
        "from kerastuner.tuners import RandomSearch\n",
        "\n",
        "# tuner = RandomSearch(\n",
        "#     build_model,\n",
        "#     objective='val_accuracy',\n",
        "#     max_trials=10,\n",
        "#     directory='/content/drive/My Drive/Colab Notebooks',\n",
        "#     project_name='tuner')\n",
        "\n",
        "tuner = RandomSearch(build_model, objective='val_accuracy',\n",
        "                     max_trials=10,\n",
        "                     executions_per_trial=2,\n",
        "                     directory='/content/drive/My Drive',\n",
        "                     project_name='tuner1')\n",
        "\n",
        "# print summary of the search space\n",
        "tuner.search_space_summary()"
      ],
      "execution_count": 11,
      "outputs": [
        {
          "output_type": "stream",
          "text": [
            "Search space summary\n",
            "Default search space size: 6\n",
            "conv_1_filter (Int)\n",
            "{'default': None, 'conditions': [], 'min_value': 16, 'max_value': 128, 'step': 16, 'sampling': None}\n",
            "conv_1_kernel (Choice)\n",
            "{'default': 2, 'conditions': [], 'values': [2, 5], 'ordered': True}\n",
            "conv_2_filter (Int)\n",
            "{'default': None, 'conditions': [], 'min_value': 32, 'max_value': 64, 'step': 16, 'sampling': None}\n",
            "conv_2_kernel (Choice)\n",
            "{'default': 2, 'conditions': [], 'values': [2, 5], 'ordered': True}\n",
            "dense_1_units (Int)\n",
            "{'default': None, 'conditions': [], 'min_value': 32, 'max_value': 128, 'step': 16, 'sampling': None}\n",
            "learning_rate (Choice)\n",
            "{'default': 0.01, 'conditions': [], 'values': [0.01, 0.001], 'ordered': True}\n"
          ],
          "name": "stdout"
        }
      ]
    },
    {
      "cell_type": "code",
      "metadata": {
        "id": "UhQjaschV_bO",
        "colab": {
          "base_uri": "https://localhost:8080/",
          "height": 35
        },
        "outputId": "6651beb1-88a3-4d7f-8923-41397c24ad77"
      },
      "source": [
        "tf.__version__"
      ],
      "execution_count": 12,
      "outputs": [
        {
          "output_type": "execute_result",
          "data": {
            "application/vnd.google.colaboratory.intrinsic+json": {
              "type": "string"
            },
            "text/plain": [
              "'2.4.1'"
            ]
          },
          "metadata": {
            "tags": []
          },
          "execution_count": 12
        }
      ]
    },
    {
      "cell_type": "code",
      "metadata": {
        "colab": {
          "base_uri": "https://localhost:8080/"
        },
        "id": "kD5YXM2i7K3y",
        "outputId": "afc186f2-b469-454c-c06c-a5cbb72eaf2b"
      },
      "source": [
        "tuner.search(x_train, y_train, validation_data=(x_test, y_test), epochs=10)"
      ],
      "execution_count": 13,
      "outputs": [
        {
          "output_type": "stream",
          "text": [
            "Trial 10 Complete [00h 04m 34s]\n",
            "val_accuracy: 0.9088050127029419\n",
            "\n",
            "Best val_accuracy So Far: 0.9402515590190887\n",
            "Total elapsed time: 01h 13m 35s\n",
            "INFO:tensorflow:Oracle triggered exit\n"
          ],
          "name": "stdout"
        }
      ]
    },
    {
      "cell_type": "code",
      "metadata": {
        "id": "m1zxKdiCAEhT",
        "colab": {
          "base_uri": "https://localhost:8080/"
        },
        "outputId": "32e0d1b5-b269-45ad-ca84-24060539a62a"
      },
      "source": [
        "tuner.results_summary()"
      ],
      "execution_count": 14,
      "outputs": [
        {
          "output_type": "stream",
          "text": [
            "Results summary\n",
            "Results in /content/drive/My Drive/tuner1\n",
            "Showing 10 best trials\n",
            "Objective(name='val_accuracy', direction='max')\n",
            "Trial summary\n",
            "Hyperparameters:\n",
            "conv_1_filter: 112\n",
            "conv_1_kernel: 2\n",
            "conv_2_filter: 64\n",
            "conv_2_kernel: 2\n",
            "dense_1_units: 64\n",
            "learning_rate: 0.001\n",
            "Score: 0.9402515590190887\n",
            "Trial summary\n",
            "Hyperparameters:\n",
            "conv_1_filter: 80\n",
            "conv_1_kernel: 5\n",
            "conv_2_filter: 48\n",
            "conv_2_kernel: 5\n",
            "dense_1_units: 96\n",
            "learning_rate: 0.001\n",
            "Score: 0.9308176040649414\n",
            "Trial summary\n",
            "Hyperparameters:\n",
            "conv_1_filter: 80\n",
            "conv_1_kernel: 5\n",
            "conv_2_filter: 64\n",
            "conv_2_kernel: 2\n",
            "dense_1_units: 96\n",
            "learning_rate: 0.001\n",
            "Score: 0.9308176040649414\n",
            "Trial summary\n",
            "Hyperparameters:\n",
            "conv_1_filter: 96\n",
            "conv_1_kernel: 5\n",
            "conv_2_filter: 32\n",
            "conv_2_kernel: 5\n",
            "dense_1_units: 80\n",
            "learning_rate: 0.001\n",
            "Score: 0.9150943458080292\n",
            "Trial summary\n",
            "Hyperparameters:\n",
            "conv_1_filter: 96\n",
            "conv_1_kernel: 2\n",
            "conv_2_filter: 48\n",
            "conv_2_kernel: 2\n",
            "dense_1_units: 64\n",
            "learning_rate: 0.001\n",
            "Score: 0.9088050127029419\n",
            "Trial summary\n",
            "Hyperparameters:\n",
            "conv_1_filter: 96\n",
            "conv_1_kernel: 2\n",
            "conv_2_filter: 32\n",
            "conv_2_kernel: 5\n",
            "dense_1_units: 32\n",
            "learning_rate: 0.001\n",
            "Score: 0.8333333432674408\n",
            "Trial summary\n",
            "Hyperparameters:\n",
            "conv_1_filter: 96\n",
            "conv_1_kernel: 5\n",
            "conv_2_filter: 32\n",
            "conv_2_kernel: 2\n",
            "dense_1_units: 48\n",
            "learning_rate: 0.001\n",
            "Score: 0.8144654035568237\n",
            "Trial summary\n",
            "Hyperparameters:\n",
            "conv_1_filter: 48\n",
            "conv_1_kernel: 5\n",
            "conv_2_filter: 48\n",
            "conv_2_kernel: 2\n",
            "dense_1_units: 64\n",
            "learning_rate: 0.01\n",
            "Score: 0.7358490526676178\n",
            "Trial summary\n",
            "Hyperparameters:\n",
            "conv_1_filter: 64\n",
            "conv_1_kernel: 5\n",
            "conv_2_filter: 32\n",
            "conv_2_kernel: 2\n",
            "dense_1_units: 80\n",
            "learning_rate: 0.01\n",
            "Score: 0.3490566164255142\n",
            "Trial summary\n",
            "Hyperparameters:\n",
            "conv_1_filter: 32\n",
            "conv_1_kernel: 5\n",
            "conv_2_filter: 64\n",
            "conv_2_kernel: 5\n",
            "dense_1_units: 48\n",
            "learning_rate: 0.01\n",
            "Score: 0.09119496867060661\n"
          ],
          "name": "stdout"
        }
      ]
    },
    {
      "cell_type": "code",
      "metadata": {
        "id": "6m6KMHFrC1n2",
        "colab": {
          "base_uri": "https://localhost:8080/"
        },
        "outputId": "88733b45-a8c5-4af9-bf5d-e9a7658ad83f"
      },
      "source": [
        "models = tuner.get_best_models(num_models=2)\n",
        "models[0].summary()\n",
        "models[1].summary()"
      ],
      "execution_count": 15,
      "outputs": [
        {
          "output_type": "stream",
          "text": [
            "Model: \"sequential\"\n",
            "_________________________________________________________________\n",
            "Layer (type)                 Output Shape              Param #   \n",
            "=================================================================\n",
            "conv2d (Conv2D)              (None, 99, 99, 112)       1456      \n",
            "_________________________________________________________________\n",
            "conv2d_1 (Conv2D)            (None, 98, 98, 64)        28736     \n",
            "_________________________________________________________________\n",
            "flatten (Flatten)            (None, 614656)            0         \n",
            "_________________________________________________________________\n",
            "dense (Dense)                (None, 64)                39338048  \n",
            "_________________________________________________________________\n",
            "dense_1 (Dense)              (None, 19)                1235      \n",
            "=================================================================\n",
            "Total params: 39,369,475\n",
            "Trainable params: 39,369,475\n",
            "Non-trainable params: 0\n",
            "_________________________________________________________________\n",
            "Model: \"sequential\"\n",
            "_________________________________________________________________\n",
            "Layer (type)                 Output Shape              Param #   \n",
            "=================================================================\n",
            "conv2d (Conv2D)              (None, 96, 96, 80)        6080      \n",
            "_________________________________________________________________\n",
            "conv2d_1 (Conv2D)            (None, 92, 92, 48)        96048     \n",
            "_________________________________________________________________\n",
            "flatten (Flatten)            (None, 406272)            0         \n",
            "_________________________________________________________________\n",
            "dense (Dense)                (None, 96)                39002208  \n",
            "_________________________________________________________________\n",
            "dense_1 (Dense)              (None, 19)                1843      \n",
            "=================================================================\n",
            "Total params: 39,106,179\n",
            "Trainable params: 39,106,179\n",
            "Non-trainable params: 0\n",
            "_________________________________________________________________\n"
          ],
          "name": "stdout"
        }
      ]
    }
  ]
}